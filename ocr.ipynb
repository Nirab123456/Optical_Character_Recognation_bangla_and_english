{
 "cells": [
  {
   "cell_type": "code",
   "execution_count": 1,
   "metadata": {},
   "outputs": [],
   "source": [
    "\n",
    "from PIL import Image\n",
    "\n",
    "import pytesseract\n",
    "import cv2\n",
    "import numpy as np\n",
    "import matplotlib.pyplot as plt\n",
    "import os\n",
    "import pytesseract\n",
    "%matplotlib inline"
   ]
  },
  {
   "cell_type": "code",
   "execution_count": 2,
   "metadata": {},
   "outputs": [],
   "source": [
    "# import shutil\n",
    "# src = 'Bengali.traineddata'\n",
    "# dest = r'c:\\Users\\rifat\\miniconda3\\envs\\tf\\lib\\site-packages\\pytesseract'\n",
    "# shutil.copy(src, dest)\n",
    "\n",
    "# filenames = os.listdir(r'c:\\Users\\rifat\\miniconda3\\envs\\tf\\lib\\site-packages\\pytesseract')\n",
    "# print(filenames) # check that the file is added in this directory which was not present before."
   ]
  },
  {
   "cell_type": "code",
   "execution_count": 3,
   "metadata": {},
   "outputs": [],
   "source": [
    "# img3 = cv2.imread('ban.jpg')\n",
    "# gray3 = cv2.cvtColor(img3, cv2.COLOR_BGR2GRAY)\n",
    "# plt.imshow(gray3,cmap='gray', vmin=0, vmax=255)\n",
    "# pytesseract.pytesseract.tesseract_cmd = r'C:\\Users\\rifat\\miniconda3\\envs\\tf\\Library\\bin\\tesseract.exe'\n",
    "# text_from_image = pytesseract.image_to_string(Image.open('ban.jpg'))\n",
    "# print(text_from_image)"
   ]
  },
  {
   "cell_type": "code",
   "execution_count": 4,
   "metadata": {},
   "outputs": [],
   "source": [
    "img3 = cv2.imread('ban.jpg')\n",
    "gray3 = cv2.cvtColor(img3, cv2.COLOR_BGR2GRAY)\n",
    "pytesseract.pytesseract.tesseract_cmd = r'C:\\Users\\rifat\\miniconda3\\envs\\tf\\Library\\bin\\tesseract.exe'\n",
    "os.environ['TESSDATA_PREFIX'] = r'c:\\Users\\rifat\\miniconda3\\envs\\tf\\lib\\site-packages\\pytesseract'\n"
   ]
  },
  {
   "cell_type": "code",
   "execution_count": 5,
   "metadata": {},
   "outputs": [],
   "source": [
    "text3 = pytesseract.image_to_string(gray3, lang='Bengali' )"
   ]
  },
  {
   "cell_type": "code",
   "execution_count": 6,
   "metadata": {},
   "outputs": [
    {
     "data": {
      "text/plain": [
       "'আমি তোমারই বুকে রবো\\nআর কোনো খানে যাবো নাকো।\\n\\n \\n\\n \\n\\nএকদিকে তুমি যদি থাকো,\\nআমি তোমারি বুকে রবো\\nআর কোনো খানে যাবো নাকো।\\nলালা লা লালা লা ....॥\\nযেখানে তুমি রবে\\nসেখানে আমি হবো ছায়া,\\nআমারই জীবন তুমি\\n\\nকরিনা প্রাণের কোনো মায়া৷\\nআমি মরনও মেনে নেবো\\nপ্রেমেরই বাজি যদি রাখো।\\n\\n \\n\\n \\n\\n \\n\\n \\n\\nএকদিকে তুমি যদি থাকো,\\nআমি তোমারি বুকে রবো\\nআর কোনো খানে যাবো নাকো।।\\n\\n \\n\\x0c'"
      ]
     },
     "execution_count": 6,
     "metadata": {},
     "output_type": "execute_result"
    }
   ],
   "source": [
    "text3"
   ]
  },
  {
   "cell_type": "code",
   "execution_count": 1,
   "metadata": {},
   "outputs": [],
   "source": [
    "from test import perform_ocr\n",
    "\n",
    "\n",
    "\n",
    "\n",
    "\n",
    "text = perform_ocr('ban.jpg')"
   ]
  },
  {
   "cell_type": "code",
   "execution_count": 2,
   "metadata": {},
   "outputs": [
    {
     "data": {
      "text/plain": [
       "'আমি তোমারই বুকে রবো\\nআর কোনো খানে যাবো নাকো।\\n\\n \\n\\n \\n\\nএকদিকে তুমি যদি থাকো,\\nআমি তোমারি বুকে রবো\\nআর কোনো খানে যাবো নাকো।\\nলালা লা লালা লা ....॥\\nযেখানে তুমি রবে\\nসেখানে আমি হবো ছায়া,\\nআমারই জীবন তুমি\\n\\nকরিনা প্রাণের কোনো মায়া৷\\nআমি মরনও মেনে নেবো\\nপ্রেমেরই বাজি যদি রাখো।\\n\\n \\n\\n \\n\\n \\n\\n \\n\\nএকদিকে তুমি যদি থাকো,\\nআমি তোমারি বুকে রবো\\nআর কোনো খানে যাবো নাকো।।\\n\\n \\n\\x0c'"
      ]
     },
     "execution_count": 2,
     "metadata": {},
     "output_type": "execute_result"
    }
   ],
   "source": [
    "text"
   ]
  },
  {
   "cell_type": "code",
   "execution_count": null,
   "metadata": {},
   "outputs": [],
   "source": [
    "from PIL import Image\n",
    "import pytesseract\n",
    "import cv2\n",
    "import os\n",
    "import subprocess\n",
    "from kivy.app import App\n",
    "from kivy.uix.widget import Widget\n",
    "from fpdf import FPDF\n",
    "from kivy.properties import (\n",
    "    NumericProperty, ReferenceListProperty, ObjectProperty\n",
    ")\n",
    "\n",
    "from kivy.vector import Vector\n",
    "from kivy.clock import Clock\n",
    "\n",
    "import sys\n",
    "\n",
    "if sys.stdout.encoding != 'utf-8':\n",
    "    sys.stdout.reconfigure(encoding='utf-8')\n",
    "\n",
    "\n",
    "class MyBoxLayout(Widget):\n",
    "    def submit_pressed(self, instance):\n",
    "        Name = self.ids.Name.text  # Corrected line\n",
    "        self.image_path = self.ids.file_chooser.selection and self.ids.file_chooser.selection[0] or ''\n",
    "        if self.image_path:\n",
    "            img = cv2.imread(self.image_path)\n",
    "            gray = cv2.cvtColor(img, cv2.COLOR_BGR2GRAY)\n",
    "            pytesseract.pytesseract.tesseract_cmd = r'C:\\Users\\rifat\\miniconda3\\envs\\tf\\Library\\bin\\tesseract.exe'\n",
    "            os.environ['TESSDATA_PREFIX'] = r'c:\\Users\\rifat\\miniconda3\\envs\\tf\\lib\\site-packages\\pytesseract'\n",
    "            text = pytesseract.image_to_string(gray, lang='Bengali')\n",
    "\n",
    "            with open(f'{Name}.txt', 'w', encoding='utf-8') as file:\n",
    "                file.write(text)\n",
    "\n",
    "\n",
    "    def get_pdf(self, instance):\n",
    "        Name = self.ids.Name.text\n",
    "        text_pth = f'{Name}.txt'\n",
    "        pdf_pth = f'{Name}.pdf'\n",
    "\n",
    "        # Read the text file\n",
    "        with open(text_pth, 'r', encoding='utf-8') as file:\n",
    "            text = file.read()\n",
    "\n",
    "        # Create a PDF instance with UTF-8 encoding\n",
    "        pdf = FPDF(orientation='P', unit='mm', format='A4')\n",
    "        pdf.add_page()\n",
    "        pdf.set_auto_page_break(auto=True, margin=15)\n",
    "\n",
    "        # Set font and font size\n",
    "        pdf.add_font('ShonarBangla', '', 'Bangla1.ttf', uni=True)\n",
    "        pdf.set_font('ShonarBangla', size=12)\n",
    "\n",
    "        # Add the text to the PDF\n",
    "        pdf.multi_cell(0, 10, text)\n",
    "\n",
    "        # Save the PDF with UTF-8 encoding\n",
    "        pdf.output(pdf_pth, 'F')  # Save the PDF to a file\n",
    "\n",
    "class MyApp(App):\n",
    "    def build(self):\n",
    "        return MyBoxLayout()\n",
    "\n",
    "\n",
    "if __name__ == '__main__':\n",
    "    MyApp().run()\n"
   ]
  },
  {
   "cell_type": "code",
   "execution_count": null,
   "metadata": {},
   "outputs": [],
   "source": [
    "import webbrowser\n",
    "\n",
    "def share_text(self, instance):\n",
    "    Name = self.ids.Name.text\n",
    "    text_pth = f'{Name}.txt'\n",
    "\n",
    "    # Generate the file URL\n",
    "    file_url = f'file://{text_pth}'\n",
    "\n",
    "    # Open the file URL in the browser\n",
    "    webbrowser.open(file_url)"
   ]
  },
  {
   "cell_type": "code",
   "execution_count": 4,
   "metadata": {},
   "outputs": [
    {
     "data": {
      "text/plain": [
       "True"
      ]
     },
     "execution_count": 4,
     "metadata": {},
     "output_type": "execute_result"
    }
   ],
   "source": [
    "import webbrowser\n",
    "\n",
    "text_pth = 'nirab.txt'\n",
    "\n",
    "# Generate the file URL\n",
    "gmail_url = f'https://mail.google.com/mail/?view=cm&fs=1&tf=1&su=Text%20File%20Attachment&body=Please%20find%20attached%20the%20text%20file.&atturl=file://{text_pth}'\n",
    "\n",
    "# Open the Gmail URL in the browser\n",
    "webbrowser.open(gmail_url)\n"
   ]
  },
  {
   "cell_type": "code",
   "execution_count": 5,
   "metadata": {},
   "outputs": [
    {
     "name": "stderr",
     "output_type": "stream",
     "text": [
      "Cloning into 'Bangla_ocr'...\n",
      "warning: You appear to have cloned an empty repository.\n"
     ]
    }
   ],
   "source": [
    "!git clone https://github.com/Nirab123456/Bangla_ocr.git"
   ]
  },
  {
   "cell_type": "code",
   "execution_count": null,
   "metadata": {},
   "outputs": [],
   "source": [
    "%cd Bangla_ocr\n",
    "!git add .\n",
    "!git commit -m \"backbone of bangla ocr\"\n",
    "!git push "
   ]
  }
 ],
 "metadata": {
  "kernelspec": {
   "display_name": "tf",
   "language": "python",
   "name": "python3"
  },
  "language_info": {
   "codemirror_mode": {
    "name": "ipython",
    "version": 3
   },
   "file_extension": ".py",
   "mimetype": "text/x-python",
   "name": "python",
   "nbconvert_exporter": "python",
   "pygments_lexer": "ipython3",
   "version": "3.8.16"
  },
  "orig_nbformat": 4
 },
 "nbformat": 4,
 "nbformat_minor": 2
}
